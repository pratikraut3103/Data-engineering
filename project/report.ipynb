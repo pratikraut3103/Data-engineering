{
 "cells": [
  {
   "metadata": {},
   "cell_type": "markdown",
   "source": "## Project Report: Correlation Analysis between Vehicle sales and Co2 Emission in USA from 1985 untill 2015",
   "id": "2fc1ef5a715c40c8"
  },
  {
   "metadata": {},
   "cell_type": "markdown",
   "source": [
    "# Introduction\n",
    "\n",
    "This project helps to investigate between Number of vehicles sold in USA from 1982 to 2015 and the increase in carbon level emission due to it in the environment. The emission of Co2 impact various factors like greenhouse effect, trapping more heat in the Earth's atmosphere, leading to global temperature rise which can lead to severe weather events such as hurricanes, droughts, heatwaves, and heavy rainfall. This report will help you to analyse how the sales of vehicles leads to the increase in carbon emissions."
   ],
   "id": "504cfba67105f0b6"
  },
  {
   "metadata": {},
   "cell_type": "markdown",
   "source": "# Methods",
   "id": "ed9bdf735e9e99df"
  },
  {
   "metadata": {},
   "cell_type": "markdown",
   "source": [
    "# Data Source\n",
    "1. Vehicle Sales data of USA: The data is taken from Kaggle, this dataset is a open source MIT licensed. The link for dataset is [Vehicle sales data](https://www.kaggle.com/datasets/syedanwarafridi/vehicle-sales-data).\n",
    "2. Co2 Emission data of USA: The data is taken from kaggle, this dataset is a open source dataset. The link for dataset is [Co_2_emission](https://www.kaggle.com/datasets/soheiltehranipour/co2-dataset-in-usa)"
   ],
   "id": "7934ade6ce137b25"
  },
  {
   "metadata": {},
   "cell_type": "markdown",
   "source": [
    "# Data Pipeline\n",
    "\n",
    "The data pipeline has the following components:\n",
    "\n",
    "# Extraction\n",
    "\n",
    "The data extraction process involves of extracting data from kaggle. The python code is used to download the data from the kaggle. Here the extracted data is preprocessed and stored into a sqlite database in form of tables.\n",
    "\n",
    "# Transformation\n",
    "\n",
    "The data transformation process includes of following steps:\n",
    "\n",
    "1. Filtering out necessary columns: The Vehicle sales data consisted of various other columns. Hence the unnecessary columns where filtered out from the dataset.   \n",
    "\n",
    "2. Checking the datatypes: Checking datatypes of columns before storing them it finally into database is the most essential as it may cause errors during the interpretations with data. \n",
    "\n",
    "3. Renaming columns: The columns are renamed such that they are more interpretable.\n",
    "\n",
    "4. Handling Missing values: The missing values can effect the quality of data and make it unusable. Hence, to ensure the usability of data the missing and null values were dropped.\n",
    "\n",
    "All of the above transformation steps ensure that the data is clean and ready for analysis. \n"
   ],
   "id": "c1703f806798a84e"
  },
  {
   "metadata": {},
   "cell_type": "markdown",
   "source": [
    "# Results and Limitations\n",
    "\n",
    "Limitations:\n",
    "1. Since the carbon emission data is for the entire country we can't do the analysis for different states in the country. \n",
    "2. Since the Co_2 is not only emitted with the use of vehicles but also from the other things like factories and other different development ongoing projects. \n",
    "\n"
   ],
   "id": "1b3f2626b47adc31"
  },
  {
   "metadata": {},
   "cell_type": "markdown",
   "source": "Vehicle Data Analysis",
   "id": "cfcef0cbb8a6374d"
  },
  {
   "cell_type": "code",
   "id": "initial_id",
   "metadata": {
    "collapsed": true,
    "ExecuteTime": {
     "end_time": "2024-06-06T07:53:54.646510Z",
     "start_time": "2024-06-06T07:53:54.641043Z"
    }
   },
   "source": [
    "import sqlite3\n",
    "import matplotlib.pyplot as plt\n",
    "import pandas as pd\n",
    "import numpy as np\n",
    "import seaborn as sns"
   ],
   "outputs": [],
   "execution_count": 15
  },
  {
   "metadata": {
    "ExecuteTime": {
     "end_time": "2024-06-06T07:53:54.744594Z",
     "start_time": "2024-06-06T07:53:54.737321Z"
    }
   },
   "cell_type": "code",
   "source": "conn = sqlite3.connect(\"..\\\\data\\\\data.sqlite\")",
   "id": "4003e6ae9b7fe903",
   "outputs": [],
   "execution_count": 16
  },
  {
   "metadata": {
    "ExecuteTime": {
     "end_time": "2024-06-06T07:53:54.759427Z",
     "start_time": "2024-06-06T07:53:54.751339Z"
    }
   },
   "cell_type": "code",
   "source": "vehicle_data =  pd.read_sql_query(\"SELECT * FROM Vehicle_sales_data\", conn)",
   "id": "2bb7c3cfc94e0b91",
   "outputs": [],
   "execution_count": 17
  },
  {
   "metadata": {
    "ExecuteTime": {
     "end_time": "2024-06-06T07:53:54.804779Z",
     "start_time": "2024-06-06T07:53:54.788618Z"
    }
   },
   "cell_type": "code",
   "source": "vehicle_data",
   "id": "e7f75bab987127f0",
   "outputs": [
    {
     "data": {
      "text/plain": [
       "    Year  Number of Vehicles sold\n",
       "0   1985                       10\n",
       "1   1986                       11\n",
       "2   1987                        8\n",
       "3   1988                       11\n",
       "4   1989                       20\n",
       "5   1990                       49\n",
       "6   1991                       67\n",
       "7   1992                      132\n",
       "8   1993                      205\n",
       "9   1994                      392\n",
       "10  1995                      711\n",
       "11  1996                      851\n",
       "12  1997                     1546\n",
       "13  1998                     2149\n",
       "14  1999                     3363\n",
       "15  2000                     5227\n",
       "16  2001                     6468\n",
       "17  2002                     9715\n",
       "18  2003                    13281\n",
       "19  2004                    17342\n",
       "20  2005                    21394\n",
       "21  2006                    26913\n",
       "22  2007                    30845\n",
       "23  2008                    31502\n",
       "24  2009                    20594\n",
       "25  2010                    26485\n",
       "26  2011                    48548\n",
       "27  2012                   102315\n",
       "28  2013                    98168\n",
       "29  2014                    81070\n",
       "30  2015                     9437"
      ],
      "text/html": [
       "<div>\n",
       "<style scoped>\n",
       "    .dataframe tbody tr th:only-of-type {\n",
       "        vertical-align: middle;\n",
       "    }\n",
       "\n",
       "    .dataframe tbody tr th {\n",
       "        vertical-align: top;\n",
       "    }\n",
       "\n",
       "    .dataframe thead th {\n",
       "        text-align: right;\n",
       "    }\n",
       "</style>\n",
       "<table border=\"1\" class=\"dataframe\">\n",
       "  <thead>\n",
       "    <tr style=\"text-align: right;\">\n",
       "      <th></th>\n",
       "      <th>Year</th>\n",
       "      <th>Number of Vehicles sold</th>\n",
       "    </tr>\n",
       "  </thead>\n",
       "  <tbody>\n",
       "    <tr>\n",
       "      <th>0</th>\n",
       "      <td>1985</td>\n",
       "      <td>10</td>\n",
       "    </tr>\n",
       "    <tr>\n",
       "      <th>1</th>\n",
       "      <td>1986</td>\n",
       "      <td>11</td>\n",
       "    </tr>\n",
       "    <tr>\n",
       "      <th>2</th>\n",
       "      <td>1987</td>\n",
       "      <td>8</td>\n",
       "    </tr>\n",
       "    <tr>\n",
       "      <th>3</th>\n",
       "      <td>1988</td>\n",
       "      <td>11</td>\n",
       "    </tr>\n",
       "    <tr>\n",
       "      <th>4</th>\n",
       "      <td>1989</td>\n",
       "      <td>20</td>\n",
       "    </tr>\n",
       "    <tr>\n",
       "      <th>5</th>\n",
       "      <td>1990</td>\n",
       "      <td>49</td>\n",
       "    </tr>\n",
       "    <tr>\n",
       "      <th>6</th>\n",
       "      <td>1991</td>\n",
       "      <td>67</td>\n",
       "    </tr>\n",
       "    <tr>\n",
       "      <th>7</th>\n",
       "      <td>1992</td>\n",
       "      <td>132</td>\n",
       "    </tr>\n",
       "    <tr>\n",
       "      <th>8</th>\n",
       "      <td>1993</td>\n",
       "      <td>205</td>\n",
       "    </tr>\n",
       "    <tr>\n",
       "      <th>9</th>\n",
       "      <td>1994</td>\n",
       "      <td>392</td>\n",
       "    </tr>\n",
       "    <tr>\n",
       "      <th>10</th>\n",
       "      <td>1995</td>\n",
       "      <td>711</td>\n",
       "    </tr>\n",
       "    <tr>\n",
       "      <th>11</th>\n",
       "      <td>1996</td>\n",
       "      <td>851</td>\n",
       "    </tr>\n",
       "    <tr>\n",
       "      <th>12</th>\n",
       "      <td>1997</td>\n",
       "      <td>1546</td>\n",
       "    </tr>\n",
       "    <tr>\n",
       "      <th>13</th>\n",
       "      <td>1998</td>\n",
       "      <td>2149</td>\n",
       "    </tr>\n",
       "    <tr>\n",
       "      <th>14</th>\n",
       "      <td>1999</td>\n",
       "      <td>3363</td>\n",
       "    </tr>\n",
       "    <tr>\n",
       "      <th>15</th>\n",
       "      <td>2000</td>\n",
       "      <td>5227</td>\n",
       "    </tr>\n",
       "    <tr>\n",
       "      <th>16</th>\n",
       "      <td>2001</td>\n",
       "      <td>6468</td>\n",
       "    </tr>\n",
       "    <tr>\n",
       "      <th>17</th>\n",
       "      <td>2002</td>\n",
       "      <td>9715</td>\n",
       "    </tr>\n",
       "    <tr>\n",
       "      <th>18</th>\n",
       "      <td>2003</td>\n",
       "      <td>13281</td>\n",
       "    </tr>\n",
       "    <tr>\n",
       "      <th>19</th>\n",
       "      <td>2004</td>\n",
       "      <td>17342</td>\n",
       "    </tr>\n",
       "    <tr>\n",
       "      <th>20</th>\n",
       "      <td>2005</td>\n",
       "      <td>21394</td>\n",
       "    </tr>\n",
       "    <tr>\n",
       "      <th>21</th>\n",
       "      <td>2006</td>\n",
       "      <td>26913</td>\n",
       "    </tr>\n",
       "    <tr>\n",
       "      <th>22</th>\n",
       "      <td>2007</td>\n",
       "      <td>30845</td>\n",
       "    </tr>\n",
       "    <tr>\n",
       "      <th>23</th>\n",
       "      <td>2008</td>\n",
       "      <td>31502</td>\n",
       "    </tr>\n",
       "    <tr>\n",
       "      <th>24</th>\n",
       "      <td>2009</td>\n",
       "      <td>20594</td>\n",
       "    </tr>\n",
       "    <tr>\n",
       "      <th>25</th>\n",
       "      <td>2010</td>\n",
       "      <td>26485</td>\n",
       "    </tr>\n",
       "    <tr>\n",
       "      <th>26</th>\n",
       "      <td>2011</td>\n",
       "      <td>48548</td>\n",
       "    </tr>\n",
       "    <tr>\n",
       "      <th>27</th>\n",
       "      <td>2012</td>\n",
       "      <td>102315</td>\n",
       "    </tr>\n",
       "    <tr>\n",
       "      <th>28</th>\n",
       "      <td>2013</td>\n",
       "      <td>98168</td>\n",
       "    </tr>\n",
       "    <tr>\n",
       "      <th>29</th>\n",
       "      <td>2014</td>\n",
       "      <td>81070</td>\n",
       "    </tr>\n",
       "    <tr>\n",
       "      <th>30</th>\n",
       "      <td>2015</td>\n",
       "      <td>9437</td>\n",
       "    </tr>\n",
       "  </tbody>\n",
       "</table>\n",
       "</div>"
      ]
     },
     "execution_count": 18,
     "metadata": {},
     "output_type": "execute_result"
    }
   ],
   "execution_count": 18
  },
  {
   "metadata": {
    "ExecuteTime": {
     "end_time": "2024-06-06T08:14:54.409156Z",
     "start_time": "2024-06-06T08:14:53.658119Z"
    }
   },
   "cell_type": "code",
   "source": [
    "plt.figure()\n",
    "plt.bar( vehicle_data['Year'],vehicle_data['Number of Vehicles sold'])\n",
    "plt.xticks(vehicle_data['Year'],rotation=90)\n",
    "plt.xlabel('Year')\n",
    "plt.ylabel('Number of Vehicles sold')\n",
    "plt.title('Number of Vehicles sold each year')"
   ],
   "id": "b681aef4acbf840c",
   "outputs": [
    {
     "data": {
      "text/plain": [
       "Text(0.5, 1.0, 'Number of Vehicles sold each year')"
      ]
     },
     "execution_count": 27,
     "metadata": {},
     "output_type": "execute_result"
    },
    {
     "data": {
      "text/plain": [
       "<Figure size 640x480 with 1 Axes>"
      ],
      "image/png": "[encoded data removed]"
     },
     "metadata": {},
     "output_type": "display_data"
    }
   ],
   "execution_count": 27
  },
  {
   "metadata": {},
   "cell_type": "markdown",
   "source": [
    "# Observation\n",
    "From this graph we can conclude that in year 2012 the number of vehicle sold were more. We can also observe that the trend increased from year 1995 and went up till 2008 and then had an down trend till 2010 and rise up with a increasing trend untill 2012 "
   ],
   "id": "140d735836d06df1"
  },
  {
   "metadata": {},
   "cell_type": "markdown",
   "source": "Co_2 Emission analysis",
   "id": "e95f8365ffdbdd1a"
  },
  {
   "metadata": {
    "ExecuteTime": {
     "end_time": "2024-06-06T07:53:55.423867Z",
     "start_time": "2024-06-06T07:53:55.415873Z"
    }
   },
   "cell_type": "code",
   "source": "co2_data = pd.read_sql_query(\"SELECT * FROM co2_emission\", conn)",
   "id": "ee7a38edd29d35e0",
   "outputs": [],
   "execution_count": 20
  },
  {
   "metadata": {
    "ExecuteTime": {
     "end_time": "2024-06-06T07:53:55.448189Z",
     "start_time": "2024-06-06T07:53:55.426098Z"
    }
   },
   "cell_type": "code",
   "source": "co2_data",
   "id": "55833dd7b5235d80",
   "outputs": [
    {
     "data": {
      "text/plain": [
       "    Year  Co2_emission\n",
       "0   1985      1367.400\n",
       "1   1986      1357.485\n",
       "2   1987      1426.752\n",
       "3   1988      1491.808\n",
       "4   1989      1518.843\n",
       "5   1990      1547.564\n",
       "6   1991      1548.180\n",
       "7   1992      1569.565\n",
       "8   1993      1632.519\n",
       "9   1994      1638.781\n",
       "10  1995      1660.743\n",
       "11  1996      1752.410\n",
       "12  1997      1797.044\n",
       "13  1998      1828.183\n",
       "14  1999      1836.415\n",
       "15  2000      1927.377\n",
       "16  2001      1869.828\n",
       "17  2002      1889.879\n",
       "18  2003      1930.972\n",
       "19  2004      1943.069\n",
       "20  2005      1983.828\n",
       "21  2006      1953.697\n",
       "22  2007      1987.287\n",
       "23  2008      1959.386\n",
       "24  2009      1740.875\n",
       "25  2010      1827.619\n",
       "26  2011      1722.709\n",
       "27  2012      1511.238\n",
       "28  2013      1571.350\n",
       "29  2014      1569.136\n",
       "30  2015      1352.967"
      ],
      "text/html": [
       "<div>\n",
       "<style scoped>\n",
       "    .dataframe tbody tr th:only-of-type {\n",
       "        vertical-align: middle;\n",
       "    }\n",
       "\n",
       "    .dataframe tbody tr th {\n",
       "        vertical-align: top;\n",
       "    }\n",
       "\n",
       "    .dataframe thead th {\n",
       "        text-align: right;\n",
       "    }\n",
       "</style>\n",
       "<table border=\"1\" class=\"dataframe\">\n",
       "  <thead>\n",
       "    <tr style=\"text-align: right;\">\n",
       "      <th></th>\n",
       "      <th>Year</th>\n",
       "      <th>Co2_emission</th>\n",
       "    </tr>\n",
       "  </thead>\n",
       "  <tbody>\n",
       "    <tr>\n",
       "      <th>0</th>\n",
       "      <td>1985</td>\n",
       "      <td>1367.400</td>\n",
       "    </tr>\n",
       "    <tr>\n",
       "      <th>1</th>\n",
       "      <td>1986</td>\n",
       "      <td>1357.485</td>\n",
       "    </tr>\n",
       "    <tr>\n",
       "      <th>2</th>\n",
       "      <td>1987</td>\n",
       "      <td>1426.752</td>\n",
       "    </tr>\n",
       "    <tr>\n",
       "      <th>3</th>\n",
       "      <td>1988</td>\n",
       "      <td>1491.808</td>\n",
       "    </tr>\n",
       "    <tr>\n",
       "      <th>4</th>\n",
       "      <td>1989</td>\n",
       "      <td>1518.843</td>\n",
       "    </tr>\n",
       "    <tr>\n",
       "      <th>5</th>\n",
       "      <td>1990</td>\n",
       "      <td>1547.564</td>\n",
       "    </tr>\n",
       "    <tr>\n",
       "      <th>6</th>\n",
       "      <td>1991</td>\n",
       "      <td>1548.180</td>\n",
       "    </tr>\n",
       "    <tr>\n",
       "      <th>7</th>\n",
       "      <td>1992</td>\n",
       "      <td>1569.565</td>\n",
       "    </tr>\n",
       "    <tr>\n",
       "      <th>8</th>\n",
       "      <td>1993</td>\n",
       "      <td>1632.519</td>\n",
       "    </tr>\n",
       "    <tr>\n",
       "      <th>9</th>\n",
       "      <td>1994</td>\n",
       "      <td>1638.781</td>\n",
       "    </tr>\n",
       "    <tr>\n",
       "      <th>10</th>\n",
       "      <td>1995</td>\n",
       "      <td>1660.743</td>\n",
       "    </tr>\n",
       "    <tr>\n",
       "      <th>11</th>\n",
       "      <td>1996</td>\n",
       "      <td>1752.410</td>\n",
       "    </tr>\n",
       "    <tr>\n",
       "      <th>12</th>\n",
       "      <td>1997</td>\n",
       "      <td>1797.044</td>\n",
       "    </tr>\n",
       "    <tr>\n",
       "      <th>13</th>\n",
       "      <td>1998</td>\n",
       "      <td>1828.183</td>\n",
       "    </tr>\n",
       "    <tr>\n",
       "      <th>14</th>\n",
       "      <td>1999</td>\n",
       "      <td>1836.415</td>\n",
       "    </tr>\n",
       "    <tr>\n",
       "      <th>15</th>\n",
       "      <td>2000</td>\n",
       "      <td>1927.377</td>\n",
       "    </tr>\n",
       "    <tr>\n",
       "      <th>16</th>\n",
       "      <td>2001</td>\n",
       "      <td>1869.828</td>\n",
       "    </tr>\n",
       "    <tr>\n",
       "      <th>17</th>\n",
       "      <td>2002</td>\n",
       "      <td>1889.879</td>\n",
       "    </tr>\n",
       "    <tr>\n",
       "      <th>18</th>\n",
       "      <td>2003</td>\n",
       "      <td>1930.972</td>\n",
       "    </tr>\n",
       "    <tr>\n",
       "      <th>19</th>\n",
       "      <td>2004</td>\n",
       "      <td>1943.069</td>\n",
       "    </tr>\n",
       "    <tr>\n",
       "      <th>20</th>\n",
       "      <td>2005</td>\n",
       "      <td>1983.828</td>\n",
       "    </tr>\n",
       "    <tr>\n",
       "      <th>21</th>\n",
       "      <td>2006</td>\n",
       "      <td>1953.697</td>\n",
       "    </tr>\n",
       "    <tr>\n",
       "      <th>22</th>\n",
       "      <td>2007</td>\n",
       "      <td>1987.287</td>\n",
       "    </tr>\n",
       "    <tr>\n",
       "      <th>23</th>\n",
       "      <td>2008</td>\n",
       "      <td>1959.386</td>\n",
       "    </tr>\n",
       "    <tr>\n",
       "      <th>24</th>\n",
       "      <td>2009</td>\n",
       "      <td>1740.875</td>\n",
       "    </tr>\n",
       "    <tr>\n",
       "      <th>25</th>\n",
       "      <td>2010</td>\n",
       "      <td>1827.619</td>\n",
       "    </tr>\n",
       "    <tr>\n",
       "      <th>26</th>\n",
       "      <td>2011</td>\n",
       "      <td>1722.709</td>\n",
       "    </tr>\n",
       "    <tr>\n",
       "      <th>27</th>\n",
       "      <td>2012</td>\n",
       "      <td>1511.238</td>\n",
       "    </tr>\n",
       "    <tr>\n",
       "      <th>28</th>\n",
       "      <td>2013</td>\n",
       "      <td>1571.350</td>\n",
       "    </tr>\n",
       "    <tr>\n",
       "      <th>29</th>\n",
       "      <td>2014</td>\n",
       "      <td>1569.136</td>\n",
       "    </tr>\n",
       "    <tr>\n",
       "      <th>30</th>\n",
       "      <td>2015</td>\n",
       "      <td>1352.967</td>\n",
       "    </tr>\n",
       "  </tbody>\n",
       "</table>\n",
       "</div>"
      ]
     },
     "execution_count": 21,
     "metadata": {},
     "output_type": "execute_result"
    }
   ],
   "execution_count": 21
  },
  {
   "metadata": {
    "ExecuteTime": {
     "end_time": "2024-06-06T08:14:34.841414Z",
     "start_time": "2024-06-06T08:14:34.237620Z"
    }
   },
   "cell_type": "code",
   "source": [
    "plt.figure()\n",
    "plt.bar(co2_data['Year'],co2_data['Co2_emission'])\n",
    "plt.xticks(co2_data['Year'],rotation=90)\n",
    "plt.tight_layout()\n",
    "plt.xlabel('Year')\n",
    "plt.ylabel('Co_2 emission in Kilo tonnes')\n",
    "plt.title('Co_2 emission in each Year')"
   ],
   "id": "f8c31ce2077b0fee",
   "outputs": [
    {
     "data": {
      "text/plain": [
       "Text(0.5, 1.0, 'Co_2 emission in each Year')"
      ]
     },
     "execution_count": 26,
     "metadata": {},
     "output_type": "execute_result"
    },
    {
     "data": {
      "text/plain": [
       "<Figure size 640x480 with 1 Axes>"
      ],
      "image/png": "[encoded data removed]"
     },
     "metadata": {},
     "output_type": "display_data"
    }
   ],
   "execution_count": 26
  },
  {
   "metadata": {},
   "cell_type": "markdown",
   "source": "Correlation Analysis",
   "id": "fd39fa779738ecf0"
  },
  {
   "metadata": {
    "ExecuteTime": {
     "end_time": "2024-06-06T07:53:56.271564Z",
     "start_time": "2024-06-06T07:53:56.262794Z"
    }
   },
   "cell_type": "code",
   "source": "merged_data = pd.merge(vehicle_data, co2_data, on='Year')",
   "id": "26955b5b920167d9",
   "outputs": [],
   "execution_count": 23
  },
  {
   "metadata": {
    "ExecuteTime": {
     "end_time": "2024-06-06T07:53:56.277787Z",
     "start_time": "2024-06-06T07:53:56.271564Z"
    }
   },
   "cell_type": "code",
   "source": "correlation_matrix = merged_data.corr(numeric_only=True)",
   "id": "41842decf1b769b2",
   "outputs": [],
   "execution_count": 24
  },
  {
   "metadata": {
    "ExecuteTime": {
     "end_time": "2024-06-06T07:53:56.509010Z",
     "start_time": "2024-06-06T07:53:56.279056Z"
    }
   },
   "cell_type": "code",
   "source": [
    "plt.figure(figsize=(10, 8))\n",
    "sns.heatmap(correlation_matrix, annot=True, cmap='coolwarm', linewidths=0.5)\n",
    "plt.title('Correlation Matrix')\n",
    "plt.show()"
   ],
   "id": "9753da2c89797909",
   "outputs": [
    {
     "data": {
      "text/plain": [
       "<Figure size 1000x800 with 2 Axes>"
      ],
      "image/png": "[encoded data removed]"
     },
     "metadata": {},
     "output_type": "display_data"
    }
   ],
   "execution_count": 25
  },
  {
   "metadata": {},
   "cell_type": "markdown",
   "source": [
    "# Observation\n",
    "Based on the above observations we can state that the C0_2 emission is not only dependent on sales of vehicles but there are also other unknown factors which also lead to the increase or decrease in the carbon emission."
   ],
   "id": "2686378e5992fe19"
  },
  {
   "metadata": {},
   "cell_type": "code",
   "outputs": [],
   "execution_count": null,
   "source": "",
   "id": "332b998fbf1ec7df"
  }
 ],
 "metadata": {
  "kernelspec": {
   "display_name": "Python 3",
   "language": "python",
   "name": "python3"
  },
  "language_info": {
   "codemirror_mode": {
    "name": "ipython",
    "version": 2
   },
   "file_extension": ".py",
   "mimetype": "text/x-python",
   "name": "python",
   "nbconvert_exporter": "python",
   "pygments_lexer": "ipython2",
   "version": "2.7.6"
  }
 },
 "nbformat": 4,
 "nbformat_minor": 5
}
